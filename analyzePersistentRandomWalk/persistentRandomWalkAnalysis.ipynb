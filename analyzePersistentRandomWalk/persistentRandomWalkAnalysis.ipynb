{
 "cells": [
  {
   "cell_type": "markdown",
   "metadata": {},
   "source": [
    "# Persistent Randwalk analysis"
   ]
  },
  {
   "cell_type": "markdown",
   "metadata": {},
   "source": [
    "#\n",
    "\n",
    "$$ \\Delta r ^2 = 4D\\Delta t + \\frac{V^2\\tau_R^2}{2}\\left[\\frac{2\\Delta t}{\\tau_R}+e^{-2\\Delta t/\\tau_R}  - 1\\right] $$\n",
    "\n",
    "For $t \\ll \\tau$:\n",
    "\n",
    "$$ \\Delta r ^2 = 4D \\Delta t + V^2\\Delta t^2 $$\n",
    "\n",
    "For $t \\gg \\tau$\n",
    "\n",
    "$$ \\Delta r^2 = (4D+V^2\\tau_R)\\Delta t $$\n",
    "Howse, 2007, PRL"
   ]
  },
  {
   "cell_type": "code",
   "execution_count": 8,
   "metadata": {},
   "outputs": [],
   "source": [
    "import numpy as np\n",
    "import matplotlib as mpl\n",
    "from matplotlib import pyplot as plt\n",
    "import pandas as pd\n",
    "import time\n",
    "import trackpy as tp\n",
    "%matplotlib inline\n",
    "def l2n(x): return np.asarray(x);\n",
    "import numpy as np\n",
    "import numba\n",
    "from matplotlib import pyplot as plt\n",
    "from numba import njit\n",
    "from scipy import interpolate\n",
    "\n",
    "mpl.rc('text',usetex=True)\n",
    "plt.style.use('dark_background')\n",
    "\n",
    "params = {'legend.fontsize': 22,\n",
    "          'figure.figsize': (8, 6),\n",
    "         'axes.labelsize': 24,\n",
    "         'axes.titlesize':24,\n",
    "         'xtick.labelsize':22,\n",
    "         'ytick.labelsize':22}\n",
    "plt.rcParams.update(params)\n",
    "plt.rc('xtick',labelsize=22)\n",
    "plt.rc('ytick',labelsize=22)"
   ]
  },
  {
   "cell_type": "markdown",
   "metadata": {},
   "source": [
    "# Load Data "
   ]
  },
  {
   "cell_type": "code",
   "execution_count": 26,
   "metadata": {},
   "outputs": [
    {
     "data": {
      "text/html": [
       "<div>\n",
       "<style scoped>\n",
       "    .dataframe tbody tr th:only-of-type {\n",
       "        vertical-align: middle;\n",
       "    }\n",
       "\n",
       "    .dataframe tbody tr th {\n",
       "        vertical-align: top;\n",
       "    }\n",
       "\n",
       "    .dataframe thead th {\n",
       "        text-align: right;\n",
       "    }\n",
       "</style>\n",
       "<table border=\"1\" class=\"dataframe\">\n",
       "  <thead>\n",
       "    <tr style=\"text-align: right;\">\n",
       "      <th></th>\n",
       "      <th>frame</th>\n",
       "      <th>Unnamed: 0</th>\n",
       "      <th>objIndex</th>\n",
       "      <th>x</th>\n",
       "      <th>y</th>\n",
       "      <th>pnX</th>\n",
       "      <th>pnY</th>\n",
       "      <th>frame.1</th>\n",
       "      <th>particle</th>\n",
       "      <th>mass</th>\n",
       "    </tr>\n",
       "  </thead>\n",
       "  <tbody>\n",
       "    <tr>\n",
       "      <th>0</th>\n",
       "      <td>0</td>\n",
       "      <td>2</td>\n",
       "      <td>2.0</td>\n",
       "      <td>343.489975</td>\n",
       "      <td>251.617794</td>\n",
       "      <td>NaN</td>\n",
       "      <td>NaN</td>\n",
       "      <td>0</td>\n",
       "      <td>0</td>\n",
       "      <td>798.0</td>\n",
       "    </tr>\n",
       "    <tr>\n",
       "      <th>1</th>\n",
       "      <td>0</td>\n",
       "      <td>3</td>\n",
       "      <td>3.0</td>\n",
       "      <td>336.946667</td>\n",
       "      <td>335.806061</td>\n",
       "      <td>NaN</td>\n",
       "      <td>NaN</td>\n",
       "      <td>0</td>\n",
       "      <td>1</td>\n",
       "      <td>825.0</td>\n",
       "    </tr>\n",
       "    <tr>\n",
       "      <th>2</th>\n",
       "      <td>1</td>\n",
       "      <td>6</td>\n",
       "      <td>6.0</td>\n",
       "      <td>342.515924</td>\n",
       "      <td>247.785987</td>\n",
       "      <td>NaN</td>\n",
       "      <td>NaN</td>\n",
       "      <td>1</td>\n",
       "      <td>0</td>\n",
       "      <td>785.0</td>\n",
       "    </tr>\n",
       "    <tr>\n",
       "      <th>3</th>\n",
       "      <td>1</td>\n",
       "      <td>7</td>\n",
       "      <td>7.0</td>\n",
       "      <td>336.368944</td>\n",
       "      <td>340.321739</td>\n",
       "      <td>NaN</td>\n",
       "      <td>NaN</td>\n",
       "      <td>1</td>\n",
       "      <td>1</td>\n",
       "      <td>805.0</td>\n",
       "    </tr>\n",
       "    <tr>\n",
       "      <th>4</th>\n",
       "      <td>2</td>\n",
       "      <td>10</td>\n",
       "      <td>10.0</td>\n",
       "      <td>341.290640</td>\n",
       "      <td>243.979064</td>\n",
       "      <td>NaN</td>\n",
       "      <td>NaN</td>\n",
       "      <td>2</td>\n",
       "      <td>0</td>\n",
       "      <td>812.0</td>\n",
       "    </tr>\n",
       "  </tbody>\n",
       "</table>\n",
       "</div>"
      ],
      "text/plain": [
       "   frame  Unnamed: 0  objIndex           x           y  pnX  pnY  frame.1  \\\n",
       "0      0           2       2.0  343.489975  251.617794  NaN  NaN        0   \n",
       "1      0           3       3.0  336.946667  335.806061  NaN  NaN        0   \n",
       "2      1           6       6.0  342.515924  247.785987  NaN  NaN        1   \n",
       "3      1           7       7.0  336.368944  340.321739  NaN  NaN        1   \n",
       "4      2          10      10.0  341.290640  243.979064  NaN  NaN        2   \n",
       "\n",
       "   particle   mass  \n",
       "0         0  798.0  \n",
       "1         1  825.0  \n",
       "2         0  785.0  \n",
       "3         1  805.0  \n",
       "4         0  812.0  "
      ]
     },
     "execution_count": 26,
     "metadata": {},
     "output_type": "execute_result"
    }
   ],
   "source": [
    "dirName =  './'\n",
    "fileName = '20190510_50sRun5secTumble_2bots_1fps_5_MED_THRESH_EROD.tif'\n",
    "locatedDataFileName = fileName+'_loc.csv'\n",
    "linkedDataFileName = locatedDataFileName+'_link.csv'\n",
    "\n",
    "ppc = 6.2 #pixels per centimer\n",
    "\n",
    "fps = 1\n",
    "\n",
    "mpp = 1E4/ppc\n",
    "tl = pd.read_csv(linkedDataFileName)\n",
    "\n",
    "\n",
    "tl.head()\n",
    "\n",
    "\n",
    "#np.roll(z,-2)-z"
   ]
  },
  {
   "cell_type": "code",
   "execution_count": 80,
   "metadata": {},
   "outputs": [],
   "source": [
    "imsd = tp.imsd(tl,mpp=mpp,fps=fps,max_lagtime=150)"
   ]
  },
  {
   "cell_type": "code",
   "execution_count": 136,
   "metadata": {},
   "outputs": [
    {
     "data": {
      "image/png": "[encoded data removed]",
      "text/plain": [
       "<Figure size 576x432 with 1 Axes>"
      ]
     },
     "metadata": {},
     "output_type": "display_data"
    }
   ],
   "source": [
    "fig,ax = plt.subplots()\n",
    "\n",
    "plt.loglog(imsd[0]/1E8,'o',color='LightBlue')\n",
    "plt.loglog(imsd[1]/1E8,'o',color='Orange')\n",
    "\n",
    "ax.grid(alpha=0.5)\n",
    "\n",
    "ax.set_xlabel(r'$\\Delta t \\left[s\\right]$')\n",
    "ax.set_ylabel(r'$\\Delta r^2  \\left[cm^2\\right]$')\n",
    "\n",
    "fig.savefig('MSDloglog.png')"
   ]
  },
  {
   "cell_type": "code",
   "execution_count": 82,
   "metadata": {},
   "outputs": [],
   "source": [
    "t = imsd.index.values\n",
    "\n",
    "imsd1Overt = imsd[0]/1E8/t\n",
    "imsd2Overt = imsd[1]/1E8/t"
   ]
  },
  {
   "cell_type": "code",
   "execution_count": 115,
   "metadata": {},
   "outputs": [
    {
     "data": {
      "image/png": "[encoded data removed]",
      "text/plain": [
       "<Figure size 576x432 with 1 Axes>"
      ]
     },
     "metadata": {},
     "output_type": "display_data"
    }
   ],
   "source": [
    "fig,ax = plt.subplots()\n",
    "\n",
    "ax.plot(t,imsd1Overt,'o',t,imsd2Overt,'o');\n",
    "ax.axis([0,150,0,20])\n",
    "ax.grid(alpha=0.5)\n",
    "\n",
    "ax.set_xlabel('time [s]')\n",
    "ax.set_ylabel(r'$\\Delta r^2 /\\Delta t  \\left[cm^2/s \\right]$')\n",
    "fig.savefig('MSDoverLag.png')"
   ]
  },
  {
   "cell_type": "code",
   "execution_count": 110,
   "metadata": {},
   "outputs": [],
   "source": [
    "cond = t<20\n",
    "fit1 = np.polyfit(t[cond],imsd1Overt[cond],deg=1)\n",
    "fit2 = np.polyfit(t[cond],imsd2Overt[cond],deg=1)\n",
    "\n",
    "v1 = fit1[0]**0.5\n",
    "v2 = fit2[0]**0.5\n",
    "\n",
    "asymp1 = 6\n",
    "asymp2 = 17.5"
   ]
  },
  {
   "cell_type": "code",
   "execution_count": 112,
   "metadata": {},
   "outputs": [],
   "source": [
    "tau1 = asymp1/v1**2\n",
    "tau2 = asymp2/v2**2\n"
   ]
  },
  {
   "cell_type": "code",
   "execution_count": 113,
   "metadata": {},
   "outputs": [
    {
     "name": "stdout",
     "output_type": "stream",
     "text": [
      "0.5167881052842085\n",
      "0.6292176880183136\n",
      "22.466024706947024\n",
      "44.20141815312735\n"
     ]
    }
   ],
   "source": [
    "print(v1)\n",
    "print(v2)\n",
    "\n",
    "print(tau1)\n",
    "print(tau2)"
   ]
  },
  {
   "cell_type": "code",
   "execution_count": 134,
   "metadata": {},
   "outputs": [
    {
     "data": {
      "image/png": "[encoded data removed]",
      "text/plain": [
       "<Figure size 576x432 with 1 Axes>"
      ]
     },
     "metadata": {},
     "output_type": "display_data"
    }
   ],
   "source": [
    "fig,ax = plt.subplots()\n",
    "\n",
    "tFit = np.arange(50);\n",
    "imsd1OvertFit = np.polyval(fit1,tFit)\n",
    "imsd2OvertFit = np.polyval(fit2,tFit)\n",
    "\n",
    "ax.plot(t,imsd1Overt,'o',color='LightBlue',alpha=0.5)\n",
    "ax.plot(t,imsd2Overt,'o',color='Orange',alpha=0.5);\n",
    "ax.plot(tFit,imsd1OvertFit,'LightBlue',tFit,imsd2OvertFit,'Orange',linewidth=3,alpha=0.5);\n",
    "ax.axis([0,150,0,20])\n",
    "ax.grid(alpha=0.5)\n",
    "ax.text(1,18,r'0.63 cm/s',fontsize=18,color='Orange')\n",
    "ax.text(1,16,r'0.52 cm/s',fontsize=18,color='LightBlue')\n",
    "\n",
    "ax.text(126,16,r'44 s',fontsize=18,color='Orange')\n",
    "ax.text(126,8,r'22 s',fontsize=18,color='LightBlue')\n",
    "\n",
    "ax.set_xlabel('time [s]')\n",
    "ax.set_ylabel(r'$\\Delta r^2 /\\Delta t  \\left[cm^2/s \\right]$')\n",
    "fig.savefig('MSDoverLagWText.png')"
   ]
  },
  {
   "cell_type": "code",
   "execution_count": 90,
   "metadata": {},
   "outputs": [
    {
     "name": "stdout",
     "output_type": "stream",
     "text": [
      "0.4898979485566356\n"
     ]
    }
   ],
   "source": [
    "v1 = (6/25)**0.5\n",
    "v2 = (10./25)**0.5\n",
    "print(v1)"
   ]
  },
  {
   "cell_type": "code",
   "execution_count": 91,
   "metadata": {},
   "outputs": [
    {
     "data": {
      "text/plain": [
       "42.5"
      ]
     },
     "execution_count": 91,
     "metadata": {},
     "output_type": "execute_result"
    }
   ],
   "source": [
    "17./v2**2"
   ]
  },
  {
   "cell_type": "code",
   "execution_count": 94,
   "metadata": {},
   "outputs": [
    {
     "data": {
      "text/plain": [
       "20.833333333333336"
      ]
     },
     "execution_count": 94,
     "metadata": {},
     "output_type": "execute_result"
    }
   ],
   "source": [
    "5/v1**2"
   ]
  },
  {
   "cell_type": "code",
   "execution_count": null,
   "metadata": {},
   "outputs": [],
   "source": []
  }
 ],
 "metadata": {
  "kernelspec": {
   "display_name": "Python 3",
   "language": "python",
   "name": "python3"
  },
  "language_info": {
   "codemirror_mode": {
    "name": "ipython",
    "version": 3
   },
   "file_extension": ".py",
   "mimetype": "text/x-python",
   "name": "python",
   "nbconvert_exporter": "python",
   "pygments_lexer": "ipython3",
   "version": "3.7.3"
  }
 },
 "nbformat": 4,
 "nbformat_minor": 2
}
