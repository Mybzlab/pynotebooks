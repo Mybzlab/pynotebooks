{
 "cells": [
  {
   "cell_type": "markdown",
   "metadata": {
    "tags": []
   },
   "source": [
    "# Payload persistence length analysis"
   ]
  },
  {
   "cell_type": "markdown",
   "metadata": {},
   "source": [
    "#### Author:    \n",
    "#### Date: 202400524"
   ]
  },
  {
   "cell_type": "markdown",
   "metadata": {},
   "source": [
    "### Standard imports"
   ]
  },
  {
   "cell_type": "code",
   "execution_count": 2,
   "metadata": {},
   "outputs": [],
   "source": [
    "import numpy as np\n",
    "from os import listdir\n",
    "from os.path import isfile, join\n",
    "\n",
    "import pdb\n",
    "from IPython.core.debugger import Tracer\n",
    "import matplotlib.pyplot as plt\n",
    "import matplotlib.animation as animation\n",
    "%matplotlib inline\n",
    "#import pandas as pd\n",
    "#from pandas import DataFrame, Series  # for convenience\n",
    "#import pims\n",
    "import time\n",
    "import matplotlib as mpl\n",
    "\n",
    "import pickle\n",
    "import pandas as pd\n",
    "import trackpy as tp\n",
    "\n",
    "import ecoSystem as es\n",
    "\n",
    "\n",
    "import ipywidgets as widgets\n",
    "from IPython.display import display\n",
    "\n",
    "\n",
    "\n",
    "def l2n(x): return np.array(x);\n",
    "def n2l(x): return list(x)\n",
    "\n",
    "mpl.rcParams['text.usetex'] = True\n",
    "\n",
    "plt.style.use('default')\n",
    "#plt.style.use('default')\n",
    "\n",
    "\n",
    "plt.rcParams['figure.figsize'] = (6,6)\n",
    "\n",
    "alignerColor = '#1f77b4';\n",
    "fronterColor = '#2ca02c';\n",
    "passiveColor = '#ff0000'#'#ff00ff'"
   ]
  },
  {
   "cell_type": "markdown",
   "metadata": {},
   "source": [
    "### Load multiple files and stictch into a single numpy array"
   ]
  },
  {
   "cell_type": "code",
   "execution_count": null,
   "metadata": {},
   "outputs": [],
   "source": [
    "def loadMultipleFiles(params,N,T,folderName):\n",
    "    onlyfiles = [f for f in listdir(folderName) if isfile(join(folderName, f))]\n",
    "    onlyfiles.sort()\n",
    "    Nfiles = len(onlyfiles)\n",
    "\n",
    "    SPall = np.zeros((T*Nfiles,params,N))\n",
    "\n",
    "    for i in range(Nfiles):\n",
    "        fileName = onlyfiles[i]\n",
    "        SPall[T*i:T*(i+1):,:] = pickle.load(open(folderName+'/'+fileName,\"rb\"))\n",
    "        \n",
    "    return SPall"
   ]
  },
  {
   "cell_type": "markdown",
   "metadata": {},
   "source": [
    "### Unwrap displacement on a torus"
   ]
  },
  {
   "cell_type": "code",
   "execution_count": null,
   "metadata": {},
   "outputs": [],
   "source": [
    "def unfoldTorus(x,boxSize):\n",
    "    dx = np.diff(x)\n",
    "    dxs = (1*(np.abs(dx)>=boxSize*0.9))*np.sign(dx)*boxSize\n",
    "    dxc = np.cumsum(dxs)\n",
    "    x[1:] -= dxc\n",
    "    return x"
   ]
  },
  {
   "cell_type": "markdown",
   "metadata": {},
   "source": [
    "### Simulation data\n",
    "\n",
    "#### Folder name, # of particles etc..."
   ]
  },
  {
   "cell_type": "code",
   "execution_count": null,
   "metadata": {},
   "outputs": [],
   "source": [
    "\n",
    "# Tota number of particles\n",
    "N = 1000;\n",
    "\n",
    "#Total number of time steps in each file\n",
    "T = 1000; \n",
    "\n",
    "#Paramters describing each time robot (position, orientatino, self propulsion speed, curvity, diameter etc.)\n",
    "params=8;\n",
    "\n",
    "#boxSize for simulations with a periodic boundary condition:\n",
    "boxSize = 10\n",
    "\n",
    "#instance of ecosystem class\n",
    "eco = es.ecoSystem(N=N,params=params);\n",
    "\n",
    "#The folder containing the various output files from a given run\n",
    "folderName = 'results/20230807121615results_grInteractingHeteroPopPeriodic_dt5e-05_N1e+03_T1e+06_kT5e+00_rSteric5.0e-02_rPassive1.0e+00_wS1e+02_V3e+01_wA-4e+00_box1e+01'\n",
    "\n",
    "\n"
   ]
  },
  {
   "cell_type": "markdown",
   "metadata": {},
   "source": [
    "### Load simulation output to a single numpy array"
   ]
  },
  {
   "cell_type": "code",
   "execution_count": null,
   "metadata": {},
   "outputs": [],
   "source": [
    "SPall = loadMultipleFiles(params,N,T,folderName)"
   ]
  },
  {
   "cell_type": "markdown",
   "metadata": {},
   "source": [
    "### Cast output into a trackpy dataframe (particle, x,y,frame)"
   ]
  },
  {
   "cell_type": "code",
   "execution_count": null,
   "metadata": {},
   "outputs": [],
   "source": []
  },
  {
   "cell_type": "markdown",
   "metadata": {},
   "source": [
    "### Use Trackpy to compute MSD"
   ]
  },
  {
   "cell_type": "code",
   "execution_count": null,
   "metadata": {},
   "outputs": [],
   "source": []
  },
  {
   "cell_type": "markdown",
   "metadata": {},
   "source": [
    "### Fit MSD to ABP"
   ]
  },
  {
   "cell_type": "code",
   "execution_count": null,
   "metadata": {},
   "outputs": [],
   "source": []
  },
  {
   "cell_type": "markdown",
   "metadata": {},
   "source": [
    "### Extract $v_0$ and $l_p$"
   ]
  },
  {
   "cell_type": "code",
   "execution_count": null,
   "metadata": {},
   "outputs": [],
   "source": []
  }
 ],
 "metadata": {
  "kernelspec": {
   "display_name": "Python 3",
   "language": "python",
   "name": "python3"
  },
  "language_info": {
   "codemirror_mode": {
    "name": "ipython",
    "version": 3
   },
   "file_extension": ".py",
   "mimetype": "text/x-python",
   "name": "python",
   "nbconvert_exporter": "python",
   "pygments_lexer": "ipython3",
   "version": "3.7.3"
  }
 },
 "nbformat": 4,
 "nbformat_minor": 4
}
