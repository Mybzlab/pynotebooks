{
 "cells": [
  {
   "cell_type": "markdown",
   "metadata": {},
   "source": [
    "## Plot nicely: make widget plot and animation of a series of snapshots\n",
    "### Updated by Matan 2024 05 24\n"
   ]
  },
  {
   "cell_type": "markdown",
   "metadata": {},
   "source": [
    "## How to work with the notebook?\n",
    "### SPall is the data loaded (following a simulation).\n",
    "### X is the data to present (chosesn through framesToShow series).\n",
    "#### There is a handful of different plotting functions oriented for mixed population (active/passive and of different size)\n"
   ]
  },
  {
   "cell_type": "code",
   "execution_count": 4,
   "metadata": {},
   "outputs": [],
   "source": [
    "import numpy as np\n",
    "from os import listdir\n",
    "from os.path import isfile, join\n",
    "\n",
    "import pdb\n",
    "from IPython.core.debugger import Tracer\n",
    "import matplotlib.pyplot as plt\n",
    "import matplotlib.animation as animation\n",
    "%matplotlib inline\n",
    "#import pandas as pd\n",
    "#from pandas import DataFrame, Series  # for convenience\n",
    "#import pims\n",
    "import time\n",
    "import matplotlib as mpl\n",
    "\n",
    "import pickle\n",
    "import pandas as pd\n",
    "import trackpy as tp\n",
    "\n",
    "import ecoSystem as es\n",
    "\n",
    "\n",
    "import ipywidgets as widgets\n",
    "from IPython.display import display\n",
    "\n",
    "\n",
    "\n",
    "def l2n(x): return np.array(x);\n",
    "def n2l(x): return list(x)\n",
    "\n",
    "mpl.rcParams['text.usetex'] = True\n",
    "\n",
    "plt.style.use('default')\n",
    "#plt.style.use('default')\n",
    "\n",
    "\n",
    "plt.rcParams['figure.figsize'] = (6,6)\n",
    "\n",
    "alignerColor = '#1f77b4';\n",
    "fronterColor = '#2ca02c';\n",
    "passiveColor = '#ff0000'#'#ff00ff'"
   ]
  },
  {
   "cell_type": "code",
   "execution_count": 22,
   "metadata": {},
   "outputs": [
    {
     "data": {
      "text/plain": [
       "'/Users/matan/Documents/research/cooperativeTransport/simulations/20230807ballisticVSdiffusive1000bots2'"
      ]
     },
     "execution_count": 22,
     "metadata": {},
     "output_type": "execute_result"
    }
   ],
   "source": [
    "pwd"
   ]
  },
  {
   "cell_type": "code",
   "execution_count": 5,
   "metadata": {},
   "outputs": [],
   "source": [
    "def loadMultipleFiles(params,N,T,folderName):\n",
    "    onlyfiles = [f for f in listdir(folderName) if isfile(join(folderName, f))]\n",
    "    onlyfiles.sort()\n",
    "    Nfiles = len(onlyfiles)\n",
    "\n",
    "    SPall = np.zeros((T*Nfiles,params,N))\n",
    "\n",
    "    for i in range(Nfiles):\n",
    "        fileName = onlyfiles[i]\n",
    "        SPall[T*i:T*(i+1):,:] = pickle.load(open(folderName+'/'+fileName,\"rb\"))\n",
    "        \n",
    "    return SPall"
   ]
  },
  {
   "cell_type": "code",
   "execution_count": 6,
   "metadata": {},
   "outputs": [],
   "source": [
    "# Here X is referred to as a global var that contains the frames of interest from SPall\n",
    "#This is a way of generating a movie within Jupyter notebook, you can view and then decide if to export\n",
    "def updateHalfActiveHalfPassive_plot(time):\n",
    "    fig,ax = plt.subplots(1,figsize = (10,10))\n",
    "    ax.clear()\n",
    "    ax.scatter(X[time,eco.xC,:Nmid],X[time,eco.yC,:Nmid],c='r', alpha = 0.4)\n",
    "    ax.scatter(X[time,eco.xC,Nmid:],X[time,eco.yC,Nmid:],c='c', alpha = 0.4)\n",
    "    ax.quiver(X[time,eco.xC,:Nmid],X[time,eco.yC,:Nmid],X[time,eco.nxC,:Nmid],X[time,eco.nyC,:Nmid],alpha=0.5,scale=40,color='w');\n",
    "\n",
    "#    plt.axis([-xMax,xMax,-yMax,yMax])1\n",
    "    plt.axis([-4,4,-4,4])\n",
    "    plt.show()\n",
    "    \n",
    "#This is a way of generating a movie within Jupyter notebook, you can view and then decide if to export\n",
    "def updatePlotAllPassive(time):\n",
    "    fig,ax = plt.subplots(1,figsize = (10,10))\n",
    "    ax.clear()\n",
    "    ax.scatter(X[time,eco.xC,:],X[time,eco.yC,:],c='c', alpha = 0.4)\n",
    "    plt.axis([-4,4,-4,4])\n",
    "    plt.show()\n",
    "    \n",
    "#This is a way of generating a movie within Jupyter notebook, you can view and then decide if to export\n",
    "def updatePlotAllActive(time):\n",
    "    fig,ax = plt.subplots(1,figsize = (10,10))\n",
    "    ax.clear()\n",
    "    ax.scatter(X[time,eco.xC,:],X[time,eco.yC,:],c='r', alpha = 0.4)\n",
    "\n",
    "    ax.quiver(X[time,eco.xC,:],X[time,eco.yC,:],X[time,eco.nxC,:],X[time,eco.nyC,:],alpha=0.5,scale=40,color='w');\n",
    "\n",
    "    #ax.axis([-xMax,xMax,-yMax,yMax])\n",
    "    ax.axis([-4,4,-4,4])\n",
    "    plt.show()\n",
    "    \n",
    "#This is a way of generating a movie within Jupyter notebook, you can view and then decide if to export\n",
    "def updatePlotAllActiveColorByTheta(time):\n",
    "    fig,ax = plt.subplots(1,figsize = (10,10))\n",
    "    ax.clear()\n",
    "    theta = np.arctan2 (X[time,eco.nyC,:],X[time,eco.nxC,:]);\n",
    "    colors = theta\n",
    "    ax.scatter(X[time,eco.xC,:],X[time,eco.yC,:],c=colors, cmap=mpl.cm.get_cmap('hsv',10),alpha = 0.8)\n",
    "    #ax.quiver(SPall[time,eco.xC,:],SPall[time,eco.yC,:],SPall[time,eco.nxC,:],SPall[time,eco.nyC,:],alpha=0.5,scale=40,color='w');\n",
    "#    theta = np.arange(20)/20*2*np.pi-np.pi\n",
    "#    colors = theta#\n",
    "\n",
    "#    axL = plt.axes((0.7,0.7,0.1,0.1), polar=True)\n",
    "#    c = axL.scatter(theta, np.ones(20), c=colors, cmap=mpl.cm.get_cmap('hsv',10), alpha=0.75)\n",
    "    makePolarColorMap(fig,cmap='hsv')\n",
    "#    ax.set_rorigin(-2.5)\n",
    " #   ax.set_theta_zero_location('W', offset=10)\n",
    "    #ax.axis([-xMax,xMax,-yMax,yMax])\n",
    "    #ax.axis([-10,10,-10,10])\n",
    "    ax.axis([-4,4,-4,4])\n",
    "    plt.show()\n",
    "    \n",
    "def makePolarColorMap(fig, cmap='hsv'):\n",
    "    display_axes = fig.add_axes([0.75,0.75,0.1,0.1], projection='polar')\n",
    "    #display_axes._direction = 2*np.pi ## This is a nasty hack - using the hidden field to \n",
    "                                  ## multiply the values such that 1 become 2*pi\n",
    "                                  ## this field is supposed to take values 1 or -1 only!!\n",
    "\n",
    "    norm = mpl.colors.Normalize(-np.pi, np.pi)\n",
    "\n",
    "    quant_steps = 2056\n",
    "    cb = mpl.colorbar.ColorbarBase(display_axes, cmap=mpl.cm.get_cmap(cmap,quant_steps), norm=norm, orientation='horizontal')\n",
    "\n",
    "    # aesthetics - get rid of border and axis labels                                   \n",
    "    cb.outline.set_visible(False)                                 \n",
    "    display_axes.set_axis_off()\n",
    "    \n",
    "    \n",
    "#This is a way of generating a movie within Jupyter notebook, you can view and then decide if to export\n",
    "def updatePlotHeterogeneousBySize(time):\n",
    "    fig,ax = plt.subplots(1,figsize = (10,10))\n",
    "    ax.clear()\n",
    "\n",
    "    active = X[time,eco.v0C,:]!=0\n",
    "    passive = X[time,eco.v0C,:]==0\n",
    "    th = traceHistory; #trace history (how man frames back to draw)\n",
    "    #ax.axis([-xMax,xMax,-yMax,yMax])\n",
    "    #ax.axis([-4,4,-4,4])\n",
    "    \n",
    "    ax.axis(axisWindow)\n",
    "    \n",
    "    activeColor = fronterColor;\n",
    "    \n",
    "    ax.plot(X[max(0,time-th):time,eco.xC,active], X[max(0,time-th):time,eco.yC,active],'-',color=activeColor,alpha=0.5,linewidth=3)\n",
    "    ax.plot(X[max(0,time-th):time,eco.xC,passive], X[max(0,time-th):time,eco.yC,passive],'-',color=passiveColor,alpha=0.5,linewidth=3)\n",
    "    ax.quiver(X[time,eco.xC,active],X[time,eco.yC,active],X[time,eco.nxC,active],X[time,eco.nyC,active],\n",
    "              alpha=0.8,scale=40,color='w',pivot='mid');\n",
    "    \n",
    "    for i in range(N):\n",
    "        xy = (X[time,eco.xC,i],X[time,eco.yC,i]);\n",
    "        width = X[time,eco.rStericC,i]*2; #make the size of elipse the rSteric of particle\n",
    "        \n",
    "        linewidth = 0;\n",
    "        \n",
    "        facecolor = 'none'\n",
    "        edgecolor = passiveColor;\n",
    "        \n",
    "        if X[time,eco.v0C,i] ==0:  #passive\n",
    "            facecolor = passiveColor\n",
    "            edgecolor = 'none';\n",
    "            linewidth = 0.5;\n",
    "            width = width;\n",
    "            \n",
    "        \n",
    "        if X[time,eco.v0C,i] !=0:  #active\n",
    "            if X[time,eco.wAC,i]<0:\n",
    "                facecolor = fronterColor\n",
    "            elif X[time,eco.wAC,i]>0:\n",
    "                facecolor = alignerColor\n",
    "            linewidth=0;\n",
    "            width = width\n",
    "         \n",
    "        height = width\n",
    "        elip = mpl.patches.Ellipse(xy,width,height,angle=0,facecolor = facecolor,edgecolor=edgecolor,linewidth = linewidth)#,alpha=0.7)#,color = markerColor)\n",
    "        ax.add_patch(elip)\n",
    "\n",
    "\n",
    "def updateAnimationHeterogeneousBySize(time):\n",
    "\n",
    "    ax.cla()\n",
    "    active = X[time,eco.v0C,:]!=0\n",
    "    passive = X[time,eco.v0C,:]==0\n",
    "\n",
    "    ax.axis(axisWindow)\n",
    "    ax.axis('off')\n",
    "    \n",
    "    minTime = max(0,time-trailLength);\n",
    "    \n",
    "    for i in range(N):                \n",
    "        \n",
    "        xy = (X[time,eco.xC,i],X[time,eco.yC,i]);\n",
    "        width = X[time,eco.rStericC,i]*2; #make the size of elipse the rSteric of particle\n",
    "        \n",
    "        linewidth = 0;\n",
    "        \n",
    "        facecolor = 'none'\n",
    "        edgecolor = passiveColor;\n",
    "\n",
    "        if X[time,eco.v0C,i] ==0:  #passive\n",
    "            facecolor = passiveColor;\n",
    "            edgecolor = passiveColor;\n",
    "            linewidth = 0;\n",
    "            width = width;\n",
    "        \n",
    "        if X[time,eco.v0C,i] !=0:  #active\n",
    "            if X[time,eco.wAC,i]<0:\n",
    "                facecolor = fronterColor\n",
    "            elif X[time,eco.wAC,i]>0:\n",
    "                facecolor = alignerColor\n",
    "            linewidth=0;\n",
    "            width = width\n",
    "         \n",
    "        height = width\n",
    "        elip = mpl.patches.Ellipse(xy,width,height,angle=0,facecolor = facecolor,edgecolor=edgecolor,linewidth = linewidth)#,alpha=0.7)#,color = markerColor)\n",
    "        ax.add_patch(elip)"
   ]
  },
  {
   "cell_type": "markdown",
   "metadata": {},
   "source": [
    "#### Initialze parameters (number of particles, number of time steps etc number of parameters)"
   ]
  },
  {
   "cell_type": "markdown",
   "metadata": {},
   "source": [
    "# Load Simulation Data"
   ]
  },
  {
   "cell_type": "code",
   "execution_count": 15,
   "metadata": {},
   "outputs": [],
   "source": [
    "N = 1000;\n",
    "T = 1000; #Time steps in each file\n",
    "params=8;\n",
    "boxSize = 10\n",
    "\n",
    "eco = es.ecoSystem(N=N,params=params);\n",
    "\n",
    "#Fronters:\n",
    "#folderName = 'results/20230807121615results_grInteractingHeteroPopPeriodic_dt5e-05_N1e+03_T1e+06_kT5e+00_rSteric5.0e-02_rPassive1.0e+00_wS1e+02_V3e+01_wA-4e+00_box1e+01'\n",
    "\n",
    "#Aligners:\n",
    "folderName = 'results/20230807124815results_grInteractingHeteroPopPeriodic_dt5e-05_N1e+03_T1e+06_kT5e+00_rSteric5.0e-02_rPassive1.0e+00_wS1e+02_V3e+01_wA4e+00_box1e+01'\n",
    "\n"
   ]
  },
  {
   "cell_type": "markdown",
   "metadata": {},
   "source": [
    "#### Load data"
   ]
  },
  {
   "cell_type": "code",
   "execution_count": 16,
   "metadata": {},
   "outputs": [],
   "source": [
    "SPall = loadMultipleFiles(params,N,T,folderName)"
   ]
  },
  {
   "cell_type": "markdown",
   "metadata": {},
   "source": [
    "### Quickly plot the trajectory of a random particle"
   ]
  },
  {
   "cell_type": "code",
   "execution_count": null,
   "metadata": {},
   "outputs": [],
   "source": [
    "particle = 20\n",
    "x = SPall[:200,eco.xC,particle]\n",
    "y = SPall[:200,eco.yC,particle]\n",
    "\n",
    "plt.plot(x,y)"
   ]
  },
  {
   "cell_type": "markdown",
   "metadata": {},
   "source": [
    "### Select snapshots to show: \n",
    "##### (Reduces the number of rames on memory)"
   ]
  },
  {
   "cell_type": "code",
   "execution_count": 18,
   "metadata": {},
   "outputs": [],
   "source": [
    "framesToShow = range(0,T*5,50)"
   ]
  },
  {
   "cell_type": "markdown",
   "metadata": {},
   "source": [
    "#### Plot nicely with a widget"
   ]
  },
  {
   "cell_type": "code",
   "execution_count": 19,
   "metadata": {},
   "outputs": [
    {
     "data": {
      "application/vnd.jupyter.widget-view+json": {
       "model_id": "29147d505a04455ea5e146e771374657",
       "version_major": 2,
       "version_minor": 0
      },
      "text/plain": [
       "IntSlider(value=2, min=2)"
      ]
     },
     "metadata": {},
     "output_type": "display_data"
    },
    {
     "data": {
      "application/vnd.jupyter.widget-view+json": {
       "model_id": "d8fdd0f3e0eb463093640ac471edb889",
       "version_major": 2,
       "version_minor": 0
      },
      "text/plain": [
       "interactive(children=(Play(value=0, description='play', max=99), Output()), _dom_classes=('widget-interact',))"
      ]
     },
     "metadata": {},
     "output_type": "display_data"
    }
   ],
   "source": [
    "\n",
    "X = SPall[framesToShow,:,:]\n",
    "traceHistory = 1\n",
    "\n",
    "side = boxSize;\n",
    "axisWindow = np.array([0,1,0,1])*side;\n",
    "#axisWindow = np.array([25,35,25,35]);\n",
    "\n",
    "Nmid = np.int_(N/2); tMax = np.shape(X)[0]; xMax = np.abs(X[:,eco.xC,:Nmid]).max(); yMax = np.abs(X[:,eco.yC,:Nmid]).max()\n",
    "play = widgets.Play(value = 0, min =0, max = tMax-1, step = 1, description=\"play\", disabled = False)\n",
    "#Find limits\n",
    "\n",
    "\n",
    "#Plot nicely\n",
    "\n",
    "\n",
    "slider = widgets.IntSlider(min=2,max = tMax)\n",
    "display(slider)\n",
    "\n",
    "widgets.jslink((play, 'value'), (slider, 'value'))\n",
    "widgets.HBox([play, slider])\n",
    "#widgets.HBox([play, slider])\n",
    "#widgets.interactive(updatePlotAllActive,time=play)\n",
    "widgets.interactive(updatePlotHeterogeneousBySize,time=play)"
   ]
  },
  {
   "cell_type": "markdown",
   "metadata": {},
   "source": [
    "## Make Animation"
   ]
  },
  {
   "cell_type": "markdown",
   "metadata": {},
   "source": [
    "### Animation parameters"
   ]
  },
  {
   "cell_type": "code",
   "execution_count": 20,
   "metadata": {},
   "outputs": [],
   "source": [
    "animationFileName = 'aligners1000BigPassive1_.mp4'\n",
    "#framesToShow = range(0,int(T/2),10)#range(0,T*10,30)\n",
    "framesToShow = range(0,T,2)#range(0,T*10,30)\n",
    "\n",
    "fps = 30\n",
    "bitrate = 1800\n",
    "figsize = 10\n",
    "trailLength = 1000;\n",
    "\n",
    "side = boxSize;\n",
    "axisWindow = np.array([0,1,0,1])*side;"
   ]
  },
  {
   "cell_type": "markdown",
   "metadata": {},
   "source": [
    "### Save animation file"
   ]
  },
  {
   "cell_type": "code",
   "execution_count": 14,
   "metadata": {},
   "outputs": [
    {
     "data": {
      "image/png": "[encoded data removed]",
      "text/plain": [
       "<Figure size 1000x1000 with 1 Axes>"
      ]
     },
     "metadata": {},
     "output_type": "display_data"
    }
   ],
   "source": [
    "\n",
    "Writer = animation.writers['ffmpeg']\n",
    "writer = Writer(fps=fps, metadata=dict(artist='Me'), bitrate=bitrate)\n",
    "\n",
    "fig,ax  = plt.subplots(figsize=(figsize,figsize));\n",
    "X = SPall\n",
    "\n",
    "ani = mpl.animation.FuncAnimation(fig, updateAnimationHeterogeneousBySize,frames=framesToShow);#, frames=datesToPlot, repeat=True)\n",
    "ani.save(animationFileName, writer=writer);\n"
   ]
  }
 ],
 "metadata": {
  "kernelspec": {
   "display_name": "Python 3",
   "language": "python",
   "name": "python3"
  },
  "language_info": {
   "codemirror_mode": {
    "name": "ipython",
    "version": 3
   },
   "file_extension": ".py",
   "mimetype": "text/x-python",
   "name": "python",
   "nbconvert_exporter": "python",
   "pygments_lexer": "ipython3",
   "version": "3.7.3"
  }
 },
 "nbformat": 4,
 "nbformat_minor": 4
}
