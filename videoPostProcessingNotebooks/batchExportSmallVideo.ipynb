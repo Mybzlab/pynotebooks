{
 "cells": [
  {
   "cell_type": "markdown",
   "id": "fa039ec5-d0f3-4f4e-9e9d-f11fc251ba93",
   "metadata": {},
   "source": [
    "# Save a small version of the video with the trajectory on it"
   ]
  },
  {
   "cell_type": "markdown",
   "id": "9598615a-0815-4171-8908-3f67f1b7e6ab",
   "metadata": {},
   "source": [
    "#### Written by Matan 20230306"
   ]
  },
  {
   "cell_type": "code",
   "execution_count": 5,
   "id": "8745e8f6-8516-4e6b-9f4d-73703eae007a",
   "metadata": {},
   "outputs": [],
   "source": [
    "import cv2 as cv2\n",
    "from matplotlib import pyplot as plt\n",
    "import pandas as pd\n",
    "import numpy as np\n",
    "import trackpy as tp\n",
    "from ipywidgets import HBox, Textarea, interact\n",
    "import time\n",
    "from mpl_toolkits.axes_grid1.inset_locator import inset_axes\n",
    "\n",
    "def l2n(x):\n",
    "    return np.array(x)\n",
    "\n",
    "def cropImage(img,x0,y0,width,height):\n",
    "    return img[y0:y0+height,x0:x0+width,:]\n",
    "\n",
    "def rebin(arr,new_shape):\n",
    "    shape = (new_shape[0], arr.shape[0] // new_shape[0],\n",
    "             new_shape[1], arr.shape[1] // new_shape[1],\n",
    "             new_shape[2], arr.shape[2] // new_shape[2])\n",
    "    \n",
    "    return arr.reshape(shape).mean(-1).mean(1).mean(2)\n",
    "\n",
    "def timeToSec(timeStr):#Transform m:s format into total number of seconds\n",
    "    timeArr = timeStr.split(':')\n",
    "    timeMin = int(timeArr[0])\n",
    "    timeSec = int(timeArr[1])\n",
    "    totSec = timeMin*60+timeSec\n",
    "    return totSec"
   ]
  },
  {
   "cell_type": "code",
   "execution_count": 6,
   "id": "719cdc9b-6877-4b78-aafd-66e55c1afb55",
   "metadata": {},
   "outputs": [
    {
     "name": "stdout",
     "output_type": "stream",
     "text": [
      "           operator  bottype  stars  bot_1_No  bot_2_No  bots  \\\n",
      "date                                                            \n",
      "20240515.0     Eden  aligner    NaN       1.0       3.0   NaN   \n",
      "\n",
      "            dress_diameter_bot_1  dress_diameter_bot_2  \\\n",
      "date                                                     \n",
      "20240515.0                  23.0                  23.0   \n",
      "\n",
      "                                        folder  \\\n",
      "date                                             \n",
      "20240515.0  D:\\Eden\\dress_exp\\16_5_24_aligners   \n",
      "\n",
      "                                                    path  ... comments  \\\n",
      "date                                                      ...            \n",
      "20240515.0  D:\\Eden\\dress_exp\\16_5_24_aligners\\C0810.MP4  ...      NaN   \n",
      "\n",
      "            backedup  motorVal  production  linkingFileName  \\\n",
      "date                                                          \n",
      "20240515.0       NaN       NaN         NaN              NaN   \n",
      "\n",
      "            botLocatingFileName  botLinkingFileName miniVideoFileNamePack  \\\n",
      "date                                                                        \n",
      "20240515.0                  NaN                 NaN                   NaN   \n",
      "\n",
      "           locatingFileNamePack  linkingFileNamePack  \n",
      "date                                                  \n",
      "20240515.0                  NaN                  NaN  \n",
      "\n",
      "[1 rows x 30 columns]\n"
     ]
    }
   ],
   "source": [
    "expSumFileName = #Experiments Summary datasheet filename [csv]\n",
    "\n",
    "expSum = pd.read_csv(expSumFileName,index_col=0)\n",
    "\n",
    "print(expSum)"
   ]
  },
  {
   "cell_type": "markdown",
   "id": "54106565-b3bc-489c-b048-fe5847618641",
   "metadata": {},
   "source": [
    "### Output video parameters"
   ]
  },
  {
   "cell_type": "code",
   "execution_count": 7,
   "id": "9d284013-9d0f-46a6-af42-bffc25025bec",
   "metadata": {},
   "outputs": [],
   "source": [
    "# Ccale down factor\n",
    "scaleDownFactor = 4\n",
    "\n",
    "# Speed up (frame skip)\n",
    "speedUpFactor = 3 \n",
    "\n",
    "# Suffix to add to output video\n",
    "smallVideoSuffix = '_small.mp4'"
   ]
  },
  {
   "cell_type": "code",
   "execution_count": 10,
   "id": "b1d8db12-8640-44dd-9941-f268c6116b1b",
   "metadata": {},
   "outputs": [
    {
     "name": "stdout",
     "output_type": "stream",
     "text": [
      "Start scaling 876 frames down of video D:\\Eden\\dress_exp\\presentation_far_away_8_7_24\\C0894.MP4. Saved to D:\\Eden\\dress_exp\\presentation_far_away_8_7_24\\C0894.MP4_small.mp4\n",
      "Scaling and cropping D:\\Eden\\dress_exp\\presentation_far_away_8_7_24\\C0894.MP4 with 876.0 frames took 4.521477460861206 seconds.\n",
      "Scaling and crroping 1 videos took4.522480010986328 seconds\n"
     ]
    }
   ],
   "source": [
    "\n",
    "width,height = 1450,1080\n",
    "x0,y0 = 200,0\n",
    "widthScaled = width//scaleDownFactor\n",
    "heightScaled = height//scaleDownFactor\n",
    "\n",
    "startTimeGlobal = time.time()\n",
    "\n",
    "\n",
    "for index,row in expSum.iterrows():\n",
    "    \n",
    "    startTime = time.time()\n",
    "   \n",
    "    ############## Fetch experiments data #################\n",
    "    fileNameVideo ='D:\\\\Eden\\\\dress_exp\\\\presentation_far_away_8_7_24\\\\C0894.MP4'#row.path\n",
    "    fileNameLinked = 'D:\\\\Eden\\\\dress_exp\\\\7_5_24\\\\C0766.MP4_locatedFull20240508_bot_Eden_test.csv_linked.csv'#row.linkingFileName\n",
    "    \n",
    "    startMin ='0:00'#str(row.start_min)\n",
    "    endMin ='0:25'#str(row.end_min)\n",
    "    \n",
    "    ############## load experiments files #################\n",
    "    # Load video file\n",
    "    video = cv2.VideoCapture(fileNameVideo)\n",
    "    # Load locating file\n",
    "    #df = pd.read_csv(fileNameLinked)\n",
    "    #Load video Data\n",
    "    fps = video.get(cv2.CAP_PROP_FPS) \n",
    "    \n",
    "    ########### Filename to save small video #############\n",
    "    outputFileName = fileNameVideo+smallVideoSuffix\n",
    "    #Compute start and end frame\n",
    "    startSec = timeToSec(startMin)\n",
    "    endSec = timeToSec(endMin)\n",
    "    startFrame = int(startSec*fps)\n",
    "    endFrame = int(video.get(cv2.CAP_PROP_FRAME_COUNT))# int(endSec*fps)\n",
    "\n",
    "    fourcc = cv2.VideoWriter_fourcc(*'XVID')\n",
    "    out = cv2.VideoWriter(outputFileName,fourcc, fps, (widthScaled,heightScaled))\n",
    "    video.set(cv2.CAP_PROP_POS_FRAMES, startFrame)\n",
    "    frameNum = video.get(cv2.CAP_PROP_POS_FRAMES)\n",
    "    ret = True\n",
    "    print('Start scaling ' +str(endFrame-startFrame) +' frames down of video ' + fileNameVideo + '. Saved to '+ outputFileName)\n",
    "    while ret and frameNum<endFrame:\n",
    "        #video.grab()#captureFrame(video,frameNum)\n",
    "        for i in range(speedUpFactor): #skip frames by speedUpFactor\n",
    "            ret, img = video.read()\n",
    "\n",
    "        if(ret): #if succesfffuly read an image\n",
    "            frameNum = video.get(cv2.CAP_PROP_POS_FRAMES)\n",
    "            #imgRed = img[:,:,0]\n",
    "\n",
    "            #For large images, locate a cropped window\n",
    "            imgCropped = cropImage(img,x0,y0,width,height)\n",
    "            imgScaled = cv2.resize(imgCropped,(widthScaled,heightScaled),fx=0,fy=0, interpolation = cv2.INTER_CUBIC)\n",
    "            #Edge detection:\n",
    "            out.write(imgScaled)\n",
    "            #df = pd.concat([df,dft],ignore_index=True)\n",
    "\n",
    "    video.release()\n",
    "    out.release()\n",
    "\n",
    "    endTime = time.time()\n",
    "    duration = endTime-startTime\n",
    "    print('Scaling and cropping '+ fileNameVideo + ' with '+ str(frameNum-startFrame) + ' frames took ' + str(duration) + ' seconds.')\n",
    "endTimeGlobal = time.time()\n",
    "durationGlobal = endTimeGlobal-startTimeGlobal\n",
    "\n",
    "print('Scaling and crroping ' + str(len(expSum)) + ' videos took' + str(durationGlobal) + ' seconds')"
   ]
  }
 ],
 "metadata": {
  "kernelspec": {
   "display_name": "Python 3 (ipykernel)",
   "language": "python",
   "name": "python3"
  },
  "language_info": {
   "codemirror_mode": {
    "name": "ipython",
    "version": 3
   },
   "file_extension": ".py",
   "mimetype": "text/x-python",
   "name": "python",
   "nbconvert_exporter": "python",
   "pygments_lexer": "ipython3",
   "version": "3.11.7"
  }
 },
 "nbformat": 4,
 "nbformat_minor": 5
}
